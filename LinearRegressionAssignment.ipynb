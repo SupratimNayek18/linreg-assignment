{
  "nbformat": 4,
  "nbformat_minor": 0,
  "metadata": {
    "kernelspec": {
      "display_name": "Python 3",
      "language": "python",
      "name": "python3"
    },
    "language_info": {
      "codemirror_mode": {
        "name": "ipython",
        "version": 3
      },
      "file_extension": ".py",
      "mimetype": "text/x-python",
      "name": "python",
      "nbconvert_exporter": "python",
      "pygments_lexer": "ipython3",
      "version": "3.7.3"
    },
    "colab": {
      "name": "LinearRegressionAssignment.ipynb",
      "provenance": [],
      "collapsed_sections": []
    }
  },
  "cells": [
    {
      "cell_type": "markdown",
      "metadata": {
        "id": "2t45jaZMipom",
        "colab_type": "text"
      },
      "source": [
        "1.\tWhat is Regression?"
      ]
    },
    {
      "cell_type": "code",
      "metadata": {
        "id": "ZRqbtN9Ripoo",
        "colab_type": "code",
        "colab": {}
      },
      "source": [
        "Regression is a type of supervised learning where the model learns from the data fed to it and predicts on some data that it has never seen before."
      ],
      "execution_count": null,
      "outputs": []
    },
    {
      "cell_type": "markdown",
      "metadata": {
        "id": "U9OF94TMipow",
        "colab_type": "text"
      },
      "source": [
        "2.\tWhat is Linear Regression?"
      ]
    },
    {
      "cell_type": "code",
      "metadata": {
        "id": "on0bHGl6ipox",
        "colab_type": "code",
        "colab": {}
      },
      "source": [
        "Linear Reqgression is a type of regression where the model predicts on some data which is linear and almost fits in a straight line."
      ],
      "execution_count": null,
      "outputs": []
    },
    {
      "cell_type": "markdown",
      "metadata": {
        "id": "BWt6dOL9ipo1",
        "colab_type": "text"
      },
      "source": [
        "3.\tWhen to use Linear Regression? Explain the equation of a straight line."
      ]
    },
    {
      "cell_type": "code",
      "metadata": {
        "id": "PpJ197jeipo3",
        "colab_type": "code",
        "colab": {}
      },
      "source": [
        "When our data shows a linear trend we can use linear regression.The equation of straight line is y=mx+c where m is slope of the line and c is the intercept."
      ],
      "execution_count": null,
      "outputs": []
    },
    {
      "cell_type": "markdown",
      "metadata": {
        "id": "EPjOoMKaipo8",
        "colab_type": "text"
      },
      "source": [
        "4.\tWhat kind of plots will you use to showcase the relationship amongst the columns?"
      ]
    },
    {
      "cell_type": "code",
      "metadata": {
        "id": "M_OvtFzYipo-",
        "colab_type": "code",
        "colab": {}
      },
      "source": [
        "We use scatter plots to showcase the relationship amongst the columns."
      ],
      "execution_count": null,
      "outputs": []
    },
    {
      "cell_type": "markdown",
      "metadata": {
        "id": "TeIQ1yGRippD",
        "colab_type": "text"
      },
      "source": [
        "5.\tHow is the best fit line chosen?"
      ]
    },
    {
      "cell_type": "code",
      "metadata": {
        "id": "ctU75M0uippE",
        "colab_type": "code",
        "colab": {}
      },
      "source": [
        "The parameters for a straight line are chiosen in such a way that the loss function is minimum."
      ],
      "execution_count": null,
      "outputs": []
    },
    {
      "cell_type": "markdown",
      "metadata": {
        "id": "2I-XwfTnippK",
        "colab_type": "text"
      },
      "source": [
        "6.\tWhat is gradient descent, and why is it used? Explain the maths."
      ]
    },
    {
      "cell_type": "code",
      "metadata": {
        "id": "LpL8no0gippL",
        "colab_type": "code",
        "colab": {}
      },
      "source": [
        "Gradient Descent is an algorithm to choose the best fit parameters for the line to fit our data such that the loss is minimum.Slope and intercepts are adjusted from the respective old ones by subtracting the derivative of loss wrt slope and intercept respectively. "
      ],
      "execution_count": null,
      "outputs": []
    },
    {
      "cell_type": "markdown",
      "metadata": {
        "id": "bOKeo2nAippS",
        "colab_type": "text"
      },
      "source": [
        "7.\tWhat are residuals?"
      ]
    },
    {
      "cell_type": "code",
      "metadata": {
        "id": "iotpR5pdippU",
        "colab_type": "code",
        "colab": {}
      },
      "source": [
        "Residuals are the variances of real data points and predicted data points."
      ],
      "execution_count": null,
      "outputs": []
    },
    {
      "cell_type": "markdown",
      "metadata": {
        "id": "uoJqjFlCippZ",
        "colab_type": "text"
      },
      "source": [
        "8.\tWhat is correlation?"
      ]
    },
    {
      "cell_type": "code",
      "metadata": {
        "id": "A_b5sm5Cippa",
        "colab_type": "code",
        "colab": {}
      },
      "source": [
        "Correlation are relations among two or more variables or features."
      ],
      "execution_count": null,
      "outputs": []
    },
    {
      "cell_type": "markdown",
      "metadata": {
        "id": "7WsPi_2jippf",
        "colab_type": "text"
      },
      "source": [
        "9.\tWhat is multicollinearity?"
      ]
    },
    {
      "cell_type": "code",
      "metadata": {
        "id": "otzFQ8Dwipph",
        "colab_type": "code",
        "colab": {}
      },
      "source": [
        "Multicollinearity is an issue we see in ML where there is multiple correlations among the features in a dataset."
      ],
      "execution_count": null,
      "outputs": []
    },
    {
      "cell_type": "markdown",
      "metadata": {
        "id": "sq39FaFzippn",
        "colab_type": "text"
      },
      "source": [
        "10.\tHow to detect multicollinearity?"
      ]
    },
    {
      "cell_type": "code",
      "metadata": {
        "id": "s2QDSSUuippo",
        "colab_type": "code",
        "colab": {}
      },
      "source": [
        "We can detect multicollinearity by plotting the graph for multicollinearity."
      ],
      "execution_count": null,
      "outputs": []
    },
    {
      "cell_type": "markdown",
      "metadata": {
        "id": "MlIUXIWqippu",
        "colab_type": "text"
      },
      "source": [
        "11.\tWhat are the remedies for multicollinearity?"
      ]
    },
    {
      "cell_type": "code",
      "metadata": {
        "id": "iNirjEhlippw",
        "colab_type": "code",
        "colab": {}
      },
      "source": [
        "Remedies for multicollinearity :\n",
        "\n",
        "1.Remove redundant features.\n",
        "2.Merging 2 fetures.\n",
        "3.PCA"
      ],
      "execution_count": null,
      "outputs": []
    },
    {
      "cell_type": "markdown",
      "metadata": {
        "id": "lit4H4R0ipp0",
        "colab_type": "text"
      },
      "source": [
        "12.\tWhat is the R-Squared Statistics?"
      ]
    },
    {
      "cell_type": "code",
      "metadata": {
        "id": "IgbLZ16gipp1",
        "colab_type": "code",
        "colab": {}
      },
      "source": [
        "R-Squared statustics shows us how much the model fits our data."
      ],
      "execution_count": null,
      "outputs": []
    },
    {
      "cell_type": "markdown",
      "metadata": {
        "id": "VqT9Lwmxipp5",
        "colab_type": "text"
      },
      "source": [
        "13.\tWhat is an adjusted R-Squared Statistics?"
      ]
    },
    {
      "cell_type": "code",
      "metadata": {
        "id": "AQvYqceKipp5",
        "colab_type": "code",
        "colab": {}
      },
      "source": [
        "R2 value increases as we add more features. To rectufy this problem we use Adjusted R2 statistics."
      ],
      "execution_count": null,
      "outputs": []
    },
    {
      "cell_type": "markdown",
      "metadata": {
        "id": "g6hKLxj3ipp-",
        "colab_type": "text"
      },
      "source": [
        "14.\tWhy do we use adj R-squared?"
      ]
    },
    {
      "cell_type": "code",
      "metadata": {
        "id": "9grDAAlGipp-",
        "colab_type": "code",
        "colab": {}
      },
      "source": [
        "Increasing no of features R2 value increases but that doesnt necessarily mean that our model fits to the data more.So we use adjusted R2 statistics to check how much our model fits the data."
      ],
      "execution_count": null,
      "outputs": []
    },
    {
      "cell_type": "markdown",
      "metadata": {
        "id": "wLSjjsoripqD",
        "colab_type": "text"
      },
      "source": [
        "15.\tWhy adj R-squared decreases when we use incompetent variables?\n",
        "\n"
      ]
    },
    {
      "cell_type": "code",
      "metadata": {
        "id": "cGKaYMnYipqD",
        "colab_type": "code",
        "colab": {}
      },
      "source": [
        "In the mathematical equation of adjusted R2 if the no of features increases the denominator value increases. Thus the value of adjusted r2 decreases."
      ],
      "execution_count": null,
      "outputs": []
    },
    {
      "cell_type": "markdown",
      "metadata": {
        "id": "j7CzEZJ4ipqI",
        "colab_type": "text"
      },
      "source": [
        "16.\tHow to interpret a Linear Regression model?"
      ]
    },
    {
      "cell_type": "code",
      "metadata": {
        "id": "aBZc5c5WipqJ",
        "colab_type": "code",
        "colab": {}
      },
      "source": [
        "How do we interpret the coefficient for spends on TV ad ( 𝛽1 )?\n",
        "\n",
        "A \"unit\" increase in spends on a TV ad is associated with a 0.047537 \"unit\" increase in Sales.\n",
        "Or, an additional $1,000 on TV ads is translated to an increase in sales by 47.53 Dollars.\n",
        "\n",
        "As an increase in TV ad expenditure is associated with a decrease in sales,  𝛽1  would be negative."
      ],
      "execution_count": null,
      "outputs": []
    },
    {
      "cell_type": "markdown",
      "metadata": {
        "id": "z92TIbpxipqM",
        "colab_type": "text"
      },
      "source": [
        "17.\tWhat is the difference between fit, fit_transform and predict methods?"
      ]
    },
    {
      "cell_type": "code",
      "metadata": {
        "id": "BgPW9VdTipqN",
        "colab_type": "code",
        "colab": {}
      },
      "source": [
        "Fit method helps to just fit something to the dataset. fit_transform fits to the data as well as transform it. One example is feature scaling."
      ],
      "execution_count": null,
      "outputs": []
    },
    {
      "cell_type": "markdown",
      "metadata": {
        "id": "nC0B_fr2ipqR",
        "colab_type": "text"
      },
      "source": [
        "18.\tHow do you plot the least squared line?"
      ]
    },
    {
      "cell_type": "code",
      "metadata": {
        "id": "zmU1RAIIipqR",
        "colab_type": "code",
        "colab": {}
      },
      "source": [
        "We cab=n plot least squared line by aquiring its slope and intercept."
      ],
      "execution_count": null,
      "outputs": []
    },
    {
      "cell_type": "markdown",
      "metadata": {
        "id": "zZ-DfjLjipqX",
        "colab_type": "text"
      },
      "source": [
        "19.\tWhat are Bias and Variance? What is Bias Variance Trade-off?"
      ]
    },
    {
      "cell_type": "code",
      "metadata": {
        "id": "hY_TEMFVipqY",
        "colab_type": "code",
        "colab": {}
      },
      "source": [
        "Bias is how much the predicted result differs from actual data and variance if how much the data points in dataset varies from each other.When there is high variance in the data the bias decreases as the model overfits and when there is high bias the model underfits.Bias is inversely propotional to variance."
      ],
      "execution_count": null,
      "outputs": []
    },
    {
      "cell_type": "markdown",
      "metadata": {
        "id": "TMo6VZAtipqf",
        "colab_type": "text"
      },
      "source": [
        "20.\tWhat is the null and alternate hypothesis?"
      ]
    },
    {
      "cell_type": "code",
      "metadata": {
        "id": "6IvJW2dnipqg",
        "colab_type": "code",
        "colab": {}
      },
      "source": [
        "Null hypothesis is a statement that we want to test for a particular dataset.If our dataset doesnt match our null hypothesis we then consider alternate hypothesis."
      ],
      "execution_count": null,
      "outputs": []
    },
    {
      "cell_type": "markdown",
      "metadata": {
        "id": "cWhcsT-Dipqk",
        "colab_type": "text"
      },
      "source": [
        "21.\tWhat is multiple linear regression?"
      ]
    },
    {
      "cell_type": "code",
      "metadata": {
        "id": "ZjuvaubDipql",
        "colab_type": "code",
        "colab": {}
      },
      "source": [
        "When we have multiple features in linear regression then problem is a multiple linear regression problem."
      ],
      "execution_count": null,
      "outputs": []
    },
    {
      "cell_type": "markdown",
      "metadata": {
        "id": "2OTInxpEipqt",
        "colab_type": "text"
      },
      "source": [
        "22.\tWhat is the OLS method? Derive the formulae used in the OLS method."
      ]
    },
    {
      "cell_type": "code",
      "metadata": {
        "id": "rnBe-4_0ipqu",
        "colab_type": "code",
        "colab": {}
      },
      "source": [
        "Ordinary Least Square is a method to reduce the residuals by finding the sum of squares of the residuals."
      ],
      "execution_count": null,
      "outputs": []
    },
    {
      "cell_type": "markdown",
      "metadata": {
        "id": "JtDY4-tsipqy",
        "colab_type": "text"
      },
      "source": [
        "23.\tWhat is the p-value? How does it help in feature selection?"
      ]
    },
    {
      "cell_type": "code",
      "metadata": {
        "id": "7BE4Wyglipq1",
        "colab_type": "code",
        "colab": {}
      },
      "source": [
        "p-value is a threshold or cutoff to determine whether there is a relation between a feature and the dependent variables.If the value of p is 0.05 or less then we consider that there is a relation between the feature and the independent variable."
      ],
      "execution_count": null,
      "outputs": []
    },
    {
      "cell_type": "markdown",
      "metadata": {
        "id": "PW36H0Ueipq5",
        "colab_type": "text"
      },
      "source": [
        "24.\tHow to handle categorical values in the data?"
      ]
    },
    {
      "cell_type": "code",
      "metadata": {
        "id": "uSX7SKqBipq6",
        "colab_type": "code",
        "colab": {}
      },
      "source": [
        "To handle categorical variables we scale the data in numerical terms . "
      ],
      "execution_count": null,
      "outputs": []
    },
    {
      "cell_type": "markdown",
      "metadata": {
        "id": "0zK6TutRiprA",
        "colab_type": "text"
      },
      "source": [
        "25.\tWhat is regularization, and why do we need it?"
      ]
    },
    {
      "cell_type": "code",
      "metadata": {
        "id": "dh5ClUtaiprB",
        "colab_type": "code",
        "colab": {}
      },
      "source": [
        "Regularization is a process of tackling overfitting of model to the dataset."
      ],
      "execution_count": null,
      "outputs": []
    },
    {
      "cell_type": "markdown",
      "metadata": {
        "id": "k0B4xW4PiprG",
        "colab_type": "text"
      },
      "source": [
        "26.\tExplain Ridge Regression."
      ]
    },
    {
      "cell_type": "code",
      "metadata": {
        "id": "-nBKF6P3iprH",
        "colab_type": "code",
        "colab": {}
      },
      "source": [
        "Ridge regression penalizes the model based on the sum of squares of magnitude of the coefficients. The regularization term is given by\n",
        "\n",
        "regularization= 𝜆∗∑|𝛽2𝑗|"
      ],
      "execution_count": null,
      "outputs": []
    },
    {
      "cell_type": "markdown",
      "metadata": {
        "id": "MVEvPYZliprO",
        "colab_type": "text"
      },
      "source": [
        "27.\tExplain Lasso Regression."
      ]
    },
    {
      "cell_type": "code",
      "metadata": {
        "id": "zSDBbStZiprP",
        "colab_type": "code",
        "colab": {}
      },
      "source": [
        "LASSO regression penalizes the model based on the sum of magnitude of the coefficients. The regularization term is given by\n",
        "\n",
        "regularization= 𝜆∗∑|𝛽𝑗|"
      ],
      "execution_count": null,
      "outputs": []
    },
    {
      "cell_type": "markdown",
      "metadata": {
        "id": "_qBLcH40iprS",
        "colab_type": "text"
      },
      "source": [
        "28.\tExplain Elastic Net."
      ]
    },
    {
      "cell_type": "code",
      "metadata": {
        "id": "lpowJhM_iprT",
        "colab_type": "code",
        "colab": {}
      },
      "source": [
        "Elastic Net is a middle ground between Ridge Regression and Lasso Regression. The regularization term is a simple mix of both Ridge and Lasso’s regularization terms"
      ],
      "execution_count": null,
      "outputs": []
    },
    {
      "cell_type": "markdown",
      "metadata": {
        "id": "5EQigzxViprY",
        "colab_type": "text"
      },
      "source": [
        "29.\tWhy do we do a train test split?"
      ]
    },
    {
      "cell_type": "code",
      "metadata": {
        "id": "NLig1zhPiprZ",
        "colab_type": "code",
        "colab": {}
      },
      "source": [
        "We split the datastet in two halves , on eis training set and another is test set.The training is where our model trains itself and the test set is where we test our dataset to check its performance."
      ],
      "execution_count": null,
      "outputs": []
    },
    {
      "cell_type": "markdown",
      "metadata": {
        "id": "pJ-zexf4ipre",
        "colab_type": "text"
      },
      "source": [
        "30.\tWhat is polynomial regression? When to use it?"
      ]
    },
    {
      "cell_type": "code",
      "metadata": {
        "id": "gDxvry_Fiprf",
        "colab_type": "code",
        "colab": {}
      },
      "source": [
        "Sometimes our data is not linear and doesnt fit in a straight line . We need polynomial regression in that case."
      ],
      "execution_count": null,
      "outputs": []
    },
    {
      "cell_type": "markdown",
      "metadata": {
        "id": "YHu-d01Miprk",
        "colab_type": "text"
      },
      "source": [
        "31.\tExplain the steps for GCP deployment."
      ]
    },
    {
      "cell_type": "code",
      "metadata": {
        "id": "eV4mybhTiprl",
        "colab_type": "code",
        "colab": {}
      },
      "source": [
        ""
      ],
      "execution_count": null,
      "outputs": []
    },
    {
      "cell_type": "markdown",
      "metadata": {
        "id": "hcdL0S0sipru",
        "colab_type": "text"
      },
      "source": [
        "32. What difficulties did you face in cloud deployment?"
      ]
    },
    {
      "cell_type": "code",
      "metadata": {
        "id": "xKvrCQ7ziprv",
        "colab_type": "code",
        "colab": {}
      },
      "source": [
        ""
      ],
      "execution_count": null,
      "outputs": []
    }
  ]
}